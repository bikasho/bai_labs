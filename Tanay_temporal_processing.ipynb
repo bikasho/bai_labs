{
  "nbformat": 4,
  "nbformat_minor": 0,
  "metadata": {
    "colab": {
      "name": "Tanay_temporal_processing.ipynb",
      "provenance": []
    },
    "kernelspec": {
      "name": "python3",
      "display_name": "Python 3"
    }
  },
  "cells": [
    {
      "cell_type": "code",
      "metadata": {
        "id": "6noayQ_-lT7V",
        "colab_type": "code",
        "colab": {}
      },
      "source": [
        "testFrames = skvideo.io.vread(videoPath, height = 224, width = 224)   # Converting video into frames.\n",
        "i = 0\n",
        "while(i<testFrames.shape[0]):              # while loop to group x (say 5) frames togther\n",
        "  test = testFrames[i:i+5,:,:,:]            \n",
        "  test = np.expand_dims(test, axis = 0)\n",
        "  if(test.shape != (1, 5, 224, 224, 3)):   # test input with size (1,5,224,224,3) \n",
        "    print(\"exiting at \"+str(i))\n",
        "    break\n",
        "  predict = model.predict(test)   # This model is a hybrid CNN-LSTM model which is able to capture the temporal diferrences (model to be developed)\n",
        "  i += 5 # This makes sure that we combine 5 frames togther, this number is upto experimentation and has to be changed"
      ],
      "execution_count": 0,
      "outputs": []
    }
  ]
}